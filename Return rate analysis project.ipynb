{
 "cells": [
  {
   "cell_type": "code",
   "execution_count": 1,
   "id": "7f2b2e28-94b3-499c-982b-04352f6ad350",
   "metadata": {},
   "outputs": [],
   "source": [
    "import pandas as pd\n",
    "import numpy as np\n",
    "import sqlite3\n",
    "from datetime import datetime"
   ]
  },
  {
   "cell_type": "code",
   "execution_count": 2,
   "id": "41bc3fe4-e903-48fc-bec7-d85089b11c30",
   "metadata": {},
   "outputs": [
    {
     "name": "stdout",
     "output_type": "stream",
     "text": [
      "Initial Data Preview:\n",
      "   order_id product_id       product_name     category  order_date  quantity  \\\n",
      "0     44605   5e09a9ee     Wireless Mouse  Accessories  01-07-2024         3   \n",
      "1     44605   a5135ea0     Wireless Mouse  Electronics  18-01-2025         3   \n",
      "2     44605   46a02a9b       Laptop Stand       Office  25-11-2024         5   \n",
      "3     44605   f2f25eef  Bluetooth Speaker    Computers  31-07-2024         5   \n",
      "4     44605   1777e8cb  Bluetooth Speaker    Computers  14-10-2024         4   \n",
      "\n",
      "    price        country region marketing_channel  is_returned return_reason  \n",
      "0  175.40  United States   West    Organic Search            1  Changed Mind  \n",
      "1  151.70  United States  South          Referral            0           NaN  \n",
      "2   52.10  United States  South          Referral            0           NaN  \n",
      "3  158.03  United States   West          Referral            0           NaN  \n",
      "4   24.51  United States  South    Organic Search            0           NaN  \n"
     ]
    }
   ],
   "source": [
    "# STEP 1: Load the CSV File\n",
    "df = pd.read_csv('product_orders.csv')\n",
    "print(\"Initial Data Preview:\")\n",
    "print(df.head())"
   ]
  },
  {
   "cell_type": "code",
   "execution_count": 3,
   "id": "e4877ebe-46c2-4322-91f7-d644d68119a3",
   "metadata": {},
   "outputs": [],
   "source": [
    "# STEP 2: Clean and Transform Data\n",
    "# Convert order_date to datetime\n",
    "df['order_date'] = pd.to_datetime(df['order_date'], errors='coerce')\n",
    "\n",
    "# Drop rows with missing order_id or product_id\n",
    "df.dropna(subset=['order_id','product_id'], inplace=True)\n",
    "\n",
    "# Ensure is_returned is binary\n",
    "df['is_returned'] = df['is_returned'].fillna(0).astype(int)\n"
   ]
  },
  {
   "cell_type": "code",
   "execution_count": 4,
   "id": "49db9de1-7032-42fb-911c-99669e7f3ae8",
   "metadata": {},
   "outputs": [
    {
     "name": "stdout",
     "output_type": "stream",
     "text": [
      "Data loaded into SQLite database successfully.\n"
     ]
    }
   ],
   "source": [
    "# STEP 3: Save to SQL (SQLite3)\n",
    "conn = sqlite3.connect('product_orders.db')\n",
    "df.to_sql('orders', conn, if_exists='replace', index=False)\n",
    "print(\"Data loaded into SQLite database successfully.\")"
   ]
  },
  {
   "cell_type": "code",
   "execution_count": 5,
   "id": "a511185c-5a9c-46c8-9d65-54634d7033e9",
   "metadata": {},
   "outputs": [
    {
     "name": "stdout",
     "output_type": "stream",
     "text": [
      "Return rate summary:\n",
      "  product_id                 product_name     category  total_orders  \\\n",
      "0   00c59f30                 Laptop Stand  Accessories             1   \n",
      "1   0534a101            Bluetooth Speaker  Accessories             1   \n",
      "2   06a241af               Wireless Mouse    Computers             1   \n",
      "3   095ffa81               Wireless Mouse       Office             1   \n",
      "4   0b531932  Noise Cancelling Headphones  Accessories             1   \n",
      "\n",
      "   total_returns  return_rate  \n",
      "0              1          1.0  \n",
      "1              1          1.0  \n",
      "2              1          1.0  \n",
      "3              1          1.0  \n",
      "4              1          1.0  \n"
     ]
    }
   ],
   "source": [
    "# STEP 4: SQL Queries for Return Rate\n",
    "query = \"\"\"\n",
    "SELECT product_id, product_name, category, COUNT(*) AS total_orders,\n",
    "SUM(CASE WHEN is_returned = 1 THEN 1 ELSE 0 END) AS total_returns,\n",
    "ROUND(SUM(CASE WHEN is_returned = 1 THEN 1.0 ELSE 0 END) / COUNT(*), 2) AS return_rate\n",
    "FROM orders\n",
    "GROUP BY product_id, product_name, category\n",
    "ORDER BY return_rate DESC;\n",
    "\"\"\"\n",
    "return_rate_df = pd.read_sql_query(query, conn)\n",
    "print(\"Return rate summary:\")\n",
    "print(return_rate_df.head())"
   ]
  },
  {
   "cell_type": "code",
   "execution_count": 10,
   "id": "4b5c8e5c-70b2-4fa7-94cb-9c08868d2dcc",
   "metadata": {},
   "outputs": [
    {
     "name": "stdout",
     "output_type": "stream",
     "text": [
      "Return percentage summary:\n",
      "      category     region  total_orders  total_returns  return_percentage\n",
      "0  Accessories       West            32             10              31.25\n",
      "1        Audio       West            32             10              31.25\n",
      "2        Audio      South            29              9              31.03\n",
      "3        Audio  Northeast            26              7              26.92\n",
      "4    Computers  Northeast            23              6              26.09\n"
     ]
    }
   ],
   "source": [
    "# Calculate return percentage\n",
    "query = \"\"\"Select category, region, COUNT(*) AS total_orders,\n",
    "SUM(is_returned) AS total_returns,\n",
    "ROUND(SUM(is_returned) * 100.0 / COUNT(*), 2) AS return_percentage\n",
    "FROM orders\n",
    "GROUP BY category, region\n",
    "ORDER BY return_percentage DESC;\"\"\"\n",
    "\n",
    "return_percent_df = pd.read_sql_query(query, conn)\n",
    "print(\"Return percentage summary:\")\n",
    "print(return_percent_df.head())"
   ]
  },
  {
   "cell_type": "code",
   "execution_count": 11,
   "id": "1175cca4-349d-4103-87e6-ea9b518f1205",
   "metadata": {},
   "outputs": [
    {
     "name": "stdout",
     "output_type": "stream",
     "text": [
      "Cleaned and aggregated data exported as CSV for Power BI.\n"
     ]
    }
   ],
   "source": [
    "# STEP 5: Save Cleaned & Aggregated Data for Power BI\n",
    "return_rate_df.to_csv(\"return_rate_summary.csv\", index=False)\n",
    "df.to_csv(\"cleaned_product_orders.csv\", index=False)\n",
    "print(\"Cleaned and aggregated data exported as CSV for Power BI.\")"
   ]
  },
  {
   "cell_type": "code",
   "execution_count": null,
   "id": "3b5066b7-a4d5-4c87-a6ab-8b371af4406e",
   "metadata": {},
   "outputs": [],
   "source": [
    "  "
   ]
  }
 ],
 "metadata": {
  "kernelspec": {
   "display_name": "Python 3 (ipykernel)",
   "language": "python",
   "name": "python3"
  },
  "language_info": {
   "codemirror_mode": {
    "name": "ipython",
    "version": 3
   },
   "file_extension": ".py",
   "mimetype": "text/x-python",
   "name": "python",
   "nbconvert_exporter": "python",
   "pygments_lexer": "ipython3",
   "version": "3.11.7"
  }
 },
 "nbformat": 4,
 "nbformat_minor": 5
}
